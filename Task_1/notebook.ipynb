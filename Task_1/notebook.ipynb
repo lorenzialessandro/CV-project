{
 "cells": [
  {
   "cell_type": "code",
   "execution_count": null,
   "metadata": {},
   "outputs": [],
   "source": [
    "%matplotlib ipympl\n",
    "\n",
    "from matplotlib import pyplot as plt\n",
    "import numpy as np\n",
    "from matplotlib import animation\n",
    "from mpl_toolkits.mplot3d import Axes3D\n",
    "import ipywidgets as widgets\n",
    "\n",
    "import optitrack.csv_reader as csv\n",
    "from optitrack.geometry import *"
   ]
  },
  {
   "cell_type": "code",
   "execution_count": null,
   "metadata": {},
   "outputs": [],
   "source": [
    "filename = \"../material/60fps/skeleton.csv\"\n",
    "# filename = \"../material/60fps/rigidbody.csv\""
   ]
  },
  {
   "cell_type": "markdown",
   "metadata": {},
   "source": [
    "### READ CSV AND LOAD DATA"
   ]
  },
  {
   "cell_type": "code",
   "execution_count": null,
   "metadata": {},
   "outputs": [],
   "source": [
    "# Read the file.\n",
    "take = csv.Take().readCSV(filename)\n",
    "\n",
    "# Print out some statistics\n",
    "print(\"Found rigid bodies:\", take.rigid_bodies.keys())\n",
    "\n",
    "# Process the first rigid body into a set of planes.\n",
    "bodies = take.rigid_bodies\n",
    "skeletons = take.skeletons\n",
    "\n",
    "bones_pos = []\n",
    "rigid_body_markers_pos = []\n",
    "markers_pos = []\n",
    "\n",
    "if len(bodies) > 0:\n",
    "    for body in bodies: \n",
    "        bones = take.rigid_bodies[body]\n",
    "        n_frames = bones.num_total_frames()\n",
    "        \n",
    "        bones_pos.append(bones.positions)\n",
    "        for marker in bones.rigid_body_markers.values():\n",
    "            rigid_body_markers_pos.append(marker.positions)\n",
    "            \n",
    "        for marker in bones.rigid_body_markers.values():\n",
    "            markers_pos.append(marker.positions)\n",
    "\n",
    "if len(skeletons) > 0:\n",
    "    for body in skeletons: \n",
    "        skeleton = take.skeletons[body]\n",
    "        n_frames = skeleton.bones[\"Luca:Hip\"].num_total_frames()\n",
    "        \n",
    "        for marker in skeleton.bones.values():\n",
    "            rigid_body_markers_pos.append(marker.positions)\n",
    "            \n",
    "        for marker in skeleton.bone_markers.values():\n",
    "            markers_pos.append(marker.positions)\n",
    "        \n",
    "\n",
    "points = bones_pos + rigid_body_markers_pos + markers_pos\n",
    "#points = rigid_body_markers_pos + markers_pos\n",
    "\n",
    "#points = [[0.0,0.0,0.0] if elem is None else elem for elem in markers for markers in points ]\n",
    "points = [[[0.0, 0.0, 0.0] if frame is None else frame for frame in markers] for markers in points]\n",
    "\n",
    "np_points = np.array(points)\n"
   ]
  },
  {
   "cell_type": "code",
   "execution_count": null,
   "metadata": {},
   "outputs": [],
   "source": [
    "x = np_points[:,:,0]\n",
    "y = np_points[:,:,1]\n",
    "z = np_points[:,:,2]"
   ]
  },
  {
   "cell_type": "markdown",
   "metadata": {},
   "source": [
    "### DISPLACE ANIMATION"
   ]
  },
  {
   "cell_type": "code",
   "execution_count": null,
   "metadata": {},
   "outputs": [],
   "source": [
    "# Create a figure and axes for the plots\n",
    "fig = plt.figure(figsize=(15, 8))  # Adjust the figure size as needed\n",
    "\n",
    "# Use GridSpec to customize subplot layout\n",
    "gs = fig.add_gridspec(2, 3, width_ratios=[1, 1, 1], height_ratios=[1, 1])\n",
    "\n",
    "# First subplot\n",
    "ax1 = fig.add_subplot(gs[0, 0], projection='3d')\n",
    "ax1.view_init(elev=105, azim=-90)  \n",
    "points1, = ax1.plot([], [], [], \"o\")\n",
    "\n",
    "# Second subplot\n",
    "ax2 = fig.add_subplot(gs[0, 1], projection='3d')\n",
    "ax2.view_init(elev=-180, azim=-90)  \n",
    "points2, = ax2.plot([], [], [], \"o\")\n",
    "\n",
    "# Third subplot\n",
    "ax3 = fig.add_subplot(gs[1, 0], projection='3d')  # Spanning across the bottom row\n",
    "ax3.view_init(elev=120, azim=-180, roll=-90) \n",
    "points3, = ax3.plot([], [], [], \"o\")\n",
    "\n",
    "# Adjust margins and spacing between subplots\n",
    "plt.subplots_adjust(left=0.01, right=0.99, bottom=0.01, top=0.99, wspace=0.01, hspace=0.01)\n",
    "\n",
    "# Define update function\n",
    "def update(t):\n",
    "    ax1.clear()\n",
    "    # ax1.set_xlabel(\"X\")\n",
    "    # ax1.set_ylabel(\"Y\")\n",
    "    # ax1.set_zlabel(\"Z\")\n",
    "    ax1.set_xlim(np.min(x), np.max(x))\n",
    "    ax1.set_ylim(np.min(y), np.max(y))\n",
    "    ax1.set_zlim(np.min(z), np.max(z))\n",
    "    ax1.scatter(x[:, t], y[:, t], z[:, t])\n",
    "    ax1.tick_params(axis='both', which='both', bottom=False, left=False, labelbottom=False, labelleft=False)\n",
    "\n",
    "    ax2.clear()\n",
    "    ax2.set_xlim(np.min(x), np.max(x))\n",
    "    ax2.set_ylim(np.min(y), np.max(y))\n",
    "    ax2.set_zlim(np.min(z), np.max(z))\n",
    "    ax2.scatter(x[:, t], y[:, t], z[:, t])\n",
    "    ax2.tick_params(axis='both', which='both', bottom=False, left=False, labelbottom=False, labelleft=False)\n",
    "\n",
    "    ax3.clear()\n",
    "    # ax3.set_xlabel(\"X\")\n",
    "    # ax3.set_ylabel(\"Y\")\n",
    "    # ax3.set_zlabel(\"Z\")\n",
    "    ax3.set_xlim(np.min(x), np.max(x))\n",
    "    ax3.set_ylim(np.min(y), np.max(y))\n",
    "    ax3.set_zlim(np.min(z), np.max(z))\n",
    "    ax3.scatter(x[:, t], y[:, t], z[:, t])\n",
    "    ax3.tick_params(axis='both', which='both', bottom=False, left=False, labelbottom=False, labelleft=False)\n",
    "    # ax3.axis('off')\n",
    "\n",
    "# Create slider widget\n",
    "frame_slider = widgets.IntSlider(value=0, min=0, max=n_frames-1, step=1, description='Frame:')\n",
    "\n",
    "# Define function to update plot when slider changes\n",
    "def slider_changed(change):\n",
    "    update(change.new)\n",
    "\n",
    "# Link slider and update function\n",
    "frame_slider.observe(slider_changed, 'value')\n",
    "\n",
    "# Create play button\n",
    "play_button = widgets.Play(\n",
    "    value=0,\n",
    "    min=0,\n",
    "    max=n_frames-1,\n",
    "    step=1,\n",
    "    description=\"Play\",\n",
    "    interval=1  # Adjust the interval (in milliseconds) as needed\n",
    ")\n",
    "\n",
    "# Link play button and slider\n",
    "widgets.jslink((play_button, 'value'), (frame_slider, 'value'))\n",
    "\n",
    "# Display play button and slider\n",
    "display(widgets.HBox([play_button, frame_slider]))\n",
    "\n",
    "# Initial plot\n",
    "update(0)"
   ]
  },
  {
   "cell_type": "markdown",
   "metadata": {},
   "source": [
    "### SAVE THE ANIMATION "
   ]
  },
  {
   "cell_type": "code",
   "execution_count": null,
   "metadata": {},
   "outputs": [],
   "source": [
    "# Create animation\n",
    "# anim = animation.FuncAnimation(fig, update, frames=n_frames, interval=100)\n",
    "\n",
    "# Save animation as GIF\n",
    "# anim.save('animations/animation.gif', writer='pillow', fps=60)"
   ]
  }
 ],
 "metadata": {
  "kernelspec": {
   "display_name": "Python 3",
   "language": "python",
   "name": "python3"
  },
  "language_info": {
   "codemirror_mode": {
    "name": "ipython",
    "version": 3
   },
   "file_extension": ".py",
   "mimetype": "text/x-python",
   "name": "python",
   "nbconvert_exporter": "python",
   "pygments_lexer": "ipython3",
   "version": "3.11.5"
  }
 },
 "nbformat": 4,
 "nbformat_minor": 2
}
