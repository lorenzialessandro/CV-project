{
 "cells": [
  {
   "cell_type": "code",
   "execution_count": 1,
   "metadata": {},
   "outputs": [],
   "source": [
    "%matplotlib ipympl\n",
    "\n",
    "from matplotlib import pyplot as plt\n",
    "import numpy as np\n",
    "from matplotlib import animation\n",
    "\n",
    "import optitrack.csv_reader as csv\n",
    "from optitrack.geometry import *\n",
    "\n",
    "filename = \"../material/60fps/ProvaRigidBody.csv\""
   ]
  },
  {
   "cell_type": "markdown",
   "metadata": {},
   "source": [
    "### READ CSV AND LOAD DATA"
   ]
  },
  {
   "cell_type": "code",
   "execution_count": 2,
   "metadata": {},
   "outputs": [
    {
     "name": "stdout",
     "output_type": "stream",
     "text": [
      "Found rigid bodies: dict_keys(['Ragnetto'])\n"
     ]
    }
   ],
   "source": [
    "# Read the file.\n",
    "take = csv.Take().readCSV(filename)\n",
    "\n",
    "# Print out some statistics\n",
    "print(\"Found rigid bodies:\", take.rigid_bodies.keys())\n",
    "\n",
    "# Process the first rigid body into a set of planes.\n",
    "bodies = take.rigid_bodies\n",
    "\n",
    "bones_pos = []\n",
    "if len(bodies) > 0:\n",
    "    for body in bodies: \n",
    "        bones = take.rigid_bodies[body]\n",
    "        bones_pos.append(bones.positions)\n",
    "\n",
    "# substitute with [0,0,0] 'None' values\n",
    "matrix = [[0,0,0] if elem is None else elem for elem in bones_pos[0]]\n",
    "\n",
    "# Extract x, y, z coordinates from the data\n",
    "x = [point[0] for point in matrix]\n",
    "y = [point[1] for point in matrix]\n",
    "z = [point[2] for point in matrix]\n",
    "positions = np.array([x, y, z]).T\n"
   ]
  },
  {
   "cell_type": "markdown",
   "metadata": {},
   "source": [
    "### DISPLACE ANIMATION"
   ]
  },
  {
   "cell_type": "code",
   "execution_count": null,
   "metadata": {},
   "outputs": [],
   "source": [
    "n_frames = len(positions)\n",
    "\n",
    "# Plot properties\n",
    "fig = plt.figure()\n",
    "ax = fig.add_subplot(projection='3d')\n",
    "\n",
    "ax.set_xlabel(\"X\")\n",
    "ax.set_ylabel(\"Y\")\n",
    "ax.set_zlabel('Z')\n",
    "\n",
    "ax.set_xlim(np.min(x), np.max(x))\n",
    "ax.set_ylim(np.min(y), np.max(y))\n",
    "ax.set_zlim(np.min(z), np.max(z))\n",
    "\n",
    "txt = fig.suptitle('')\n",
    "\n",
    "# initialize empty set of points\n",
    "points, = ax.plot([], [], [], \"o\")\n",
    "\n",
    "# define an animation function\n",
    "# this determines the plot's behavior at each frame\n",
    "def update(t, x, y, z, points):\n",
    "    txt.set_text('frame={:d}'.format(t))\n",
    "    \n",
    "    # update properties\n",
    "    updated_positions = np.array(([x[t]], [y[t]], [z[t]]), dtype=float)\n",
    "    points.set_data_3d(updated_positions)\n",
    "\n",
    "    # return modified artists\n",
    "    return points, txt\n",
    "\n",
    "ani=animation.FuncAnimation(fig, update, frames=n_frames, fargs=(x, y, z, points)) \n",
    "ani.save(filename=\"animations/animation.gif\", writer=\"pillow\", fps=60)\n",
    "\n",
    "plt.show()"
   ]
  }
 ],
 "metadata": {
  "kernelspec": {
   "display_name": "Python 3",
   "language": "python",
   "name": "python3"
  },
  "language_info": {
   "codemirror_mode": {
    "name": "ipython",
    "version": 3
   },
   "file_extension": ".py",
   "mimetype": "text/x-python",
   "name": "python",
   "nbconvert_exporter": "python",
   "pygments_lexer": "ipython3",
   "version": "3.11.5"
  }
 },
 "nbformat": 4,
 "nbformat_minor": 2
}
