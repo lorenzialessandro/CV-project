{
 "cells": [
  {
   "cell_type": "code",
   "execution_count": 1,
   "metadata": {},
   "outputs": [
    {
     "name": "stdout",
     "output_type": "stream",
     "text": [
      "Jupyter environment detected. Enabling Open3D WebVisualizer.\n",
      "[Open3D INFO] WebRTC GUI backend enabled.\n",
      "[Open3D INFO] WebRTCWindowSystem: HTTP handshake server disabled.\n"
     ]
    }
   ],
   "source": [
    "import sys, os\n",
    "# sys.path.insert(0, os.path.dirname(os.path.abspath(os.path.dirname(__file__))))\n",
    "import open3d as o3d\n",
    "import time\n",
    "import numpy as np\n",
    "\n",
    "# Load the Optitrack CSV file parser module.\n",
    "import optitrack.csv_reader as csv\n",
    "from optitrack.geometry import *\n",
    "\n",
    "import matplotlib.pyplot as plt\n",
    "from mpl_toolkits.mplot3d import Axes3D\n",
    "import matplotlib.animation as animation\n",
    "\n",
    "\n",
    "filename = \"../material/60fps/ProvaRigidBody.csv\""
   ]
  },
  {
   "cell_type": "code",
   "execution_count": 2,
   "metadata": {},
   "outputs": [],
   "source": [
    "# df = csv.CSVReader('../material/60fps/ProvaRigidBody.csv')\n",
    "# take = csv.Take().readCSV('../material/60fps/ProvaRigidBody.csv')\n",
    "# print(take.rigid_bodies.keys())  # Display the first few rows to verify\n"
   ]
  },
  {
   "cell_type": "code",
   "execution_count": 3,
   "metadata": {},
   "outputs": [
    {
     "name": "stdout",
     "output_type": "stream",
     "text": [
      "Found rigid bodies: dict_keys(['Ragnetto'])\n"
     ]
    }
   ],
   "source": [
    "# Read the file.\n",
    "take = csv.Take().readCSV(filename)\n",
    "\n",
    "# Print out some statistics\n",
    "print(\"Found rigid bodies:\", take.rigid_bodies.keys())\n",
    "\n",
    "# Process the first rigid body into a set of planes.\n",
    "bodies = take.rigid_bodies\n",
    "\n",
    "# for now:\n",
    "xaxis = [1,0,0]\n",
    "yaxis = [0,1,0]\n",
    "\n",
    "body_edges = [[0,1],[1,2],[2,3],[3,4],[3,5],[5,6],[6,7],[7,8],[3,9],[9,10],[10,11],[11,12],[0,13],[13,14],[14,15],\n",
    "                [0,16],[16,17],[17,18],[18,20],[15,19]]\n",
    "\n",
    "bones_pos = []\n",
    "if len(bodies) > 0:\n",
    "    for body in bodies: \n",
    "        bones = take.rigid_bodies[body]\n",
    "        bones_pos.append(bones.positions)\n",
    "        # for pos,rot in zip(body.positions, body.rotations):\n",
    "        #     if pos is not None and rot is not None:\n",
    "        #         xaxis, yaxis = quaternion_to_xaxis_yaxis(rot)\n",
    "                # plane = rs.PlaneFromFrame(pos, xaxis, yaxis)\n",
    "\n",
    "                # # create a visible plane, assuming units are in meters\n",
    "                # rs.AddPlaneSurface( plane, 0.1, 0.1 )\n",
    "# bones_pos = np.array(bones_pos).T.tolist()\n",
    "# bones_pos = np.array(bones_pos, dtype=float).T.tolist()\n",
    "colors = [[1, 0, 0] for i in range(len(body_edges))]\n",
    "# keypoints = o3d.geometry.PointCloud()\n",
    "# keypoints.points = o3d.utility.Vector3dVector(bones_pos[0])\n",
    "# keypoints_center = keypoints.get_center()\n",
    "# keypoints.points = o3d.utility.Vector3dVector(bones_pos[0])\n",
    "# skeleton_joints = o3d.geometry.LineSet()\n",
    "# skeleton_joints.points = o3d.utility.Vector3dVector(bones_pos[0])\n",
    "# center_skel = skeleton_joints.get_center()\n",
    "# skeleton_joints.points = o3d.utility.Vector3dVector(bones_pos[0])\n",
    "# skeleton_joints.lines = o3d.utility.Vector2iVector(body_edges)\n",
    "# skeleton_joints.colors = o3d.utility.Vector3dVector(colors)\n",
    "\n",
    "# vis = o3d.visualization.Visualizer()\n",
    "    \n",
    "# vis.create_window()\n",
    "# # This plot the entire skeleton\n",
    "# vis.add_geometry(skeleton_joints)\n",
    "# vis.add_geometry(keypoints)\n",
    "\n",
    "# time.sleep(5)\n",
    "# for i in range(1000,2003):\n",
    "#     print(i)\n",
    "#     new_joints = bones_pos[i]\n",
    "#     # center_skel = skeleton_joints.get_center()\n",
    "#     skeleton_joints.points = o3d.utility.Vector3dVector(new_joints)\n",
    "#     keypoints.points = o3d.utility.Vector3dVector(new_joints)\n",
    "#     print(new_joints)\n",
    "#     # This plot the entire skeleton\n",
    "#     vis.update_geometry(skeleton_joints)\n",
    "#     vis.update_geometry(keypoints)\n",
    "    \n",
    "#     vis.update_renderer()\n",
    "#     vis.poll_events()\n",
    "\n",
    "#     time.sleep(0.5)\n",
    "    \n",
    "# vis.run()"
   ]
  },
  {
   "cell_type": "code",
   "execution_count": 4,
   "metadata": {},
   "outputs": [
    {
     "name": "stderr",
     "output_type": "stream",
     "text": [
      "INFO - 2024-04-16 11:45:11,391 - animation - Animation.save using <class 'matplotlib.animation.PillowWriter'>\n"
     ]
    }
   ],
   "source": [
    "def replace_none_with_zero(lst):\n",
    "    if lst is None:\n",
    "        return [0, 0, 0]\n",
    "    else:\n",
    "        for i in range(len(lst)):\n",
    "            if lst[i] is None:\n",
    "                lst[i] = [0, 0, 0]\n",
    "            elif isinstance(lst[i], list):\n",
    "                lst[i] = replace_none_with_zero(lst[i])\n",
    "        return lst\n",
    "\n",
    "matrix = replace_none_with_zero(bones_pos)\n",
    "\n",
    "# Extract x, y, z coordinates from the data\n",
    "x = [point[0] for point in matrix[0]]\n",
    "y = [point[1] for point in matrix[0]]\n",
    "z = [point[2] for point in matrix[0]]\n",
    "positions = np.array([x, y, z]).T\n",
    "\n",
    "# Create 3D plot\n",
    "fig = plt.figure()\n",
    "ax = fig.add_subplot(projection='3d')\n",
    "\n",
    "##\n",
    "###\n",
    "#####\n",
    "###\n",
    "##\n",
    "\n",
    "# Create the initial point\n",
    "point = ax.scatter(x[0], y[0], z[0], color='r', s=10)\n",
    "\n",
    "def update(frame):\n",
    "     point._offsets3d = (x[:frame], y[:frame], z[:frame])\n",
    "     \n",
    "# Set labels\n",
    "ax.set_xlabel('X')\n",
    "ax.set_xlim(np.min(x), np.max(x))\n",
    "ax.set_ylabel('Y')\n",
    "ax.set_ylim(np.min(y), np.max(y))\n",
    "ax.set_zlabel('Z')\n",
    "ax.set_zlim(np.min(z), np.max(z))\n",
    "\n",
    "ani = animation.FuncAnimation(\n",
    "    fig, update, frames=len(positions), interval=100)\n",
    "\n",
    "ani.save(\"anim.gif\", writer=\"pillow\", fps=60)\n",
    "\n",
    "plt.show()"
   ]
  }
 ],
 "metadata": {
  "kernelspec": {
   "display_name": "Python 3",
   "language": "python",
   "name": "python3"
  },
  "language_info": {
   "codemirror_mode": {
    "name": "ipython",
    "version": 3
   },
   "file_extension": ".py",
   "mimetype": "text/x-python",
   "name": "python",
   "nbconvert_exporter": "python",
   "pygments_lexer": "ipython3",
   "version": "3.11.5"
  }
 },
 "nbformat": 4,
 "nbformat_minor": 2
}
