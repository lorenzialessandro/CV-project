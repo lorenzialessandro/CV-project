{
 "cells": [
  {
   "cell_type": "code",
   "execution_count": 6,
   "metadata": {},
   "outputs": [],
   "source": [
    "import sys, os\n",
    "# sys.path.insert(0, os.path.dirname(os.path.abspath(os.path.dirname(__file__))))\n",
    "import open3d as o3d\n",
    "import time\n",
    "import numpy as np\n",
    "\n",
    "# Load the Optitrack CSV file parser module.\n",
    "import optitrack.csv_reader as csv\n",
    "from optitrack.geometry import *\n",
    "\n",
    "\n",
    "filename = \"../material/60fps/ProvaRigidBody.csv\""
   ]
  },
  {
   "cell_type": "code",
   "execution_count": 7,
   "metadata": {},
   "outputs": [
    {
     "ename": "ValueError",
     "evalue": "invalid mode: 'rU'",
     "output_type": "error",
     "traceback": [
      "\u001b[1;31m---------------------------------------------------------------------------\u001b[0m",
      "\u001b[1;31mValueError\u001b[0m                                Traceback (most recent call last)",
      "Cell \u001b[1;32mIn[7], line 2\u001b[0m\n\u001b[0;32m      1\u001b[0m \u001b[38;5;66;03m#df = csv.CSVReader('../material/60fps/ProvaRigidBody.csv')\u001b[39;00m\n\u001b[1;32m----> 2\u001b[0m take \u001b[38;5;241m=\u001b[39m csv\u001b[38;5;241m.\u001b[39mTake()\u001b[38;5;241m.\u001b[39mreadCSV(\u001b[38;5;124m'\u001b[39m\u001b[38;5;124m../material/60fps/ProvaRigidBody.csv\u001b[39m\u001b[38;5;124m'\u001b[39m)\n\u001b[0;32m      3\u001b[0m \u001b[38;5;28mprint\u001b[39m(take\u001b[38;5;241m.\u001b[39mrigid_bodies\u001b[38;5;241m.\u001b[39mkeys())\n",
      "File \u001b[1;32md:\\CV-project\\Task_1\\optitrack\\csv_reader.py:129\u001b[0m, in \u001b[0;36mTake.readCSV\u001b[1;34m(self, path, verbose)\u001b[0m\n\u001b[0;32m    126\u001b[0m \u001b[38;5;28mself\u001b[39m\u001b[38;5;241m.\u001b[39m_ignored_labels  \u001b[38;5;241m=\u001b[39m \u001b[38;5;28mset\u001b[39m()\n\u001b[0;32m    127\u001b[0m \u001b[38;5;28mself\u001b[39m\u001b[38;5;241m.\u001b[39m_column_map \u001b[38;5;241m=\u001b[39m \u001b[38;5;28mlist\u001b[39m()\n\u001b[1;32m--> 129\u001b[0m csv_stream \u001b[38;5;241m=\u001b[39m csv\u001b[38;5;241m.\u001b[39mreader(\u001b[38;5;28mopen\u001b[39m(path, \u001b[38;5;124m\"\u001b[39m\u001b[38;5;124mrU\u001b[39m\u001b[38;5;124m\"\u001b[39m))\n\u001b[0;32m    130\u001b[0m \u001b[38;5;28mself\u001b[39m\u001b[38;5;241m.\u001b[39m_read_header(csv_stream, verbose)\n\u001b[0;32m    131\u001b[0m \u001b[38;5;28mself\u001b[39m\u001b[38;5;241m.\u001b[39m_read_data(csv_stream, verbose)        \n",
      "\u001b[1;31mValueError\u001b[0m: invalid mode: 'rU'"
     ]
    }
   ],
   "source": [
    "#df = csv.CSVReader('../material/60fps/ProvaRigidBody.csv')\n",
    "take = csv.Take().readCSV('../material/60fps/ProvaRigidBody.csv')\n",
    "print(take.rigid_bodies.keys())  # Display the first few rows to verify\n"
   ]
  },
  {
   "cell_type": "code",
   "execution_count": 5,
   "metadata": {},
   "outputs": [
    {
     "ename": "ValueError",
     "evalue": "invalid mode: 'rU'",
     "output_type": "error",
     "traceback": [
      "\u001b[1;31m---------------------------------------------------------------------------\u001b[0m",
      "\u001b[1;31mValueError\u001b[0m                                Traceback (most recent call last)",
      "Cell \u001b[1;32mIn[5], line 2\u001b[0m\n\u001b[0;32m      1\u001b[0m \u001b[38;5;66;03m# Read the file.\u001b[39;00m\n\u001b[1;32m----> 2\u001b[0m take \u001b[38;5;241m=\u001b[39m csv\u001b[38;5;241m.\u001b[39mTake()\u001b[38;5;241m.\u001b[39mreadCSV(filename)\n\u001b[0;32m      4\u001b[0m \u001b[38;5;66;03m# Print out some statistics\u001b[39;00m\n\u001b[0;32m      5\u001b[0m \u001b[38;5;28mprint\u001b[39m(\u001b[38;5;124m\"\u001b[39m\u001b[38;5;124mFound rigid bodies:\u001b[39m\u001b[38;5;124m\"\u001b[39m, take\u001b[38;5;241m.\u001b[39mrigid_bodies\u001b[38;5;241m.\u001b[39mkeys())\n",
      "File \u001b[1;32md:\\CV-project\\Task_1\\optitrack\\csv_reader.py:129\u001b[0m, in \u001b[0;36mTake.readCSV\u001b[1;34m(self, path, verbose)\u001b[0m\n\u001b[0;32m    126\u001b[0m \u001b[38;5;28mself\u001b[39m\u001b[38;5;241m.\u001b[39m_ignored_labels  \u001b[38;5;241m=\u001b[39m \u001b[38;5;28mset\u001b[39m()\n\u001b[0;32m    127\u001b[0m \u001b[38;5;28mself\u001b[39m\u001b[38;5;241m.\u001b[39m_column_map \u001b[38;5;241m=\u001b[39m \u001b[38;5;28mlist\u001b[39m()\n\u001b[1;32m--> 129\u001b[0m csv_stream \u001b[38;5;241m=\u001b[39m csv\u001b[38;5;241m.\u001b[39mreader(\u001b[38;5;28mopen\u001b[39m(path, \u001b[38;5;124m\"\u001b[39m\u001b[38;5;124mrU\u001b[39m\u001b[38;5;124m\"\u001b[39m))\n\u001b[0;32m    130\u001b[0m \u001b[38;5;28mself\u001b[39m\u001b[38;5;241m.\u001b[39m_read_header(csv_stream, verbose)\n\u001b[0;32m    131\u001b[0m \u001b[38;5;28mself\u001b[39m\u001b[38;5;241m.\u001b[39m_read_data(csv_stream, verbose)        \n",
      "\u001b[1;31mValueError\u001b[0m: invalid mode: 'rU'"
     ]
    }
   ],
   "source": [
    "# Read the file.\n",
    "take = csv.Take().readCSV(filename)\n",
    "\n",
    "# Print out some statistics\n",
    "print(\"Found rigid bodies:\", take.rigid_bodies.keys())\n",
    "\n",
    "# Process the first rigid body into a set of planes.\n",
    "bodies = take.rigid_bodies\n",
    "\n",
    "# for now:\n",
    "xaxis = [1,0,0]\n",
    "yaxis = [0,1,0]\n",
    "\n",
    "body_edges = [[0,1],[1,2],[2,3],[3,4],[3,5],[5,6],[6,7],[7,8],[3,9],[9,10],[10,11],[11,12],[0,13],[13,14],[14,15],\n",
    "                [0,16],[16,17],[17,18],[18,20],[15,19]]\n",
    "\n",
    "bones_pos = []\n",
    "if len(bodies) > 0:\n",
    "    for body in bodies: \n",
    "        bones = take.rigid_bodies[body]\n",
    "        bones_pos.append(bones.positions)\n",
    "        # for pos,rot in zip(body.positions, body.rotations):\n",
    "        #     if pos is not None and rot is not None:\n",
    "        #         xaxis, yaxis = quaternion_to_xaxis_yaxis(rot)\n",
    "                # plane = rs.PlaneFromFrame(pos, xaxis, yaxis)\n",
    "\n",
    "                # # create a visible plane, assuming units are in meters\n",
    "                # rs.AddPlaneSurface( plane, 0.1, 0.1 )\n",
    "bones_pos = np.array(bones_pos).T.tolist()\n",
    "colors = [[1, 0, 0] for i in range(len(body_edges))]\n",
    "keypoints = o3d.geometry.PointCloud()\n",
    "keypoints.points = o3d.utility.Vector3dVector(bones_pos[0])\n",
    "keypoints_center = keypoints.get_center()\n",
    "keypoints.points = o3d.utility.Vector3dVector(bones_pos[0])\n",
    "skeleton_joints = o3d.geometry.LineSet()\n",
    "skeleton_joints.points = o3d.utility.Vector3dVector(bones_pos[0])\n",
    "center_skel = skeleton_joints.get_center()\n",
    "skeleton_joints.points = o3d.utility.Vector3dVector(bones_pos[0])\n",
    "skeleton_joints.lines = o3d.utility.Vector2iVector(body_edges)\n",
    "skeleton_joints.colors = o3d.utility.Vector3dVector(colors)\n",
    "\n",
    "vis = o3d.visualization.Visualizer()\n",
    "    \n",
    "vis.create_window()\n",
    "# This plot the entire skeleton\n",
    "vis.add_geometry(skeleton_joints)\n",
    "vis.add_geometry(keypoints)\n",
    "\n",
    "time.sleep(5)\n",
    "for i in range(1000,2003):\n",
    "    print(i)\n",
    "    new_joints = bones_pos[i]\n",
    "    # center_skel = skeleton_joints.get_center()\n",
    "    skeleton_joints.points = o3d.utility.Vector3dVector(new_joints)\n",
    "    keypoints.points = o3d.utility.Vector3dVector(new_joints)\n",
    "    print(new_joints)\n",
    "    # This plot the entire skeleton\n",
    "    vis.update_geometry(skeleton_joints)\n",
    "    vis.update_geometry(keypoints)\n",
    "    \n",
    "    vis.update_renderer()\n",
    "    vis.poll_events()\n",
    "\n",
    "    time.sleep(0.5)\n",
    "    \n",
    "vis.run()"
   ]
  }
 ],
 "metadata": {
  "kernelspec": {
   "display_name": "Python 3",
   "language": "python",
   "name": "python3"
  },
  "language_info": {
   "codemirror_mode": {
    "name": "ipython",
    "version": 3
   },
   "file_extension": ".py",
   "mimetype": "text/x-python",
   "name": "python",
   "nbconvert_exporter": "python",
   "pygments_lexer": "ipython3",
   "version": "3.11.5"
  }
 },
 "nbformat": 4,
 "nbformat_minor": 2
}
